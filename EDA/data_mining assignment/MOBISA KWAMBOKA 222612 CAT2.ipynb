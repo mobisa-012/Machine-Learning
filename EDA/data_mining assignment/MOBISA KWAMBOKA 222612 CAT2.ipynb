{
 "cells": [
  {
   "cell_type": "markdown",
   "id": "c7280117-7873-4712-8e4d-59eac2a9ae3d",
   "metadata": {},
   "source": [
    "#### *Continuation of Cat 1*\n",
    "# MAPPING EDUCATIONAL EQUITY: A DATA-DRIVEN ANALYSIS OF INFRASTRUCTURE AND RESOURCE DISTRIBUTION IN KENYA'S PRIMARY SCHOOLS\n",
    "\n",
    "## Author: **MOBISA KWAMBOKA 222612**\n",
    "#### Strathmore University \n",
    "#### DSA 8102: DATA MINING, STORAGE AND RETRIEVAL\n",
    "#### DR. KENNEDY SENAGI\n",
    "#### CAT 2\n",
    "### **Date**: 3/8/2025"
   ]
  },
  {
   "cell_type": "code",
   "execution_count": null,
   "id": "422648cb-ab3e-43dd-9c70-01f12c47ad6d",
   "metadata": {},
   "outputs": [],
   "source": [
    "import pandas as pd\n",
    "import numpy as np\n",
    "import matplotlib.pyplot as plt\n",
    "import seaborn as sns\n",
    "from scipy import stats\n",
    "import plotly.express as px\n",
    "\n",
    "data = pd.read_csv(\"C:/Users/Bina/Desktop/Machine-Learning/EDA/data_mining assignment/kenya_primary_schools.csv\")\n",
    "print(data.columns)\n",
    "print(data.shape)"
   ]
  },
  {
   "cell_type": "code",
   "execution_count": null,
   "id": "6009943d-68c4-46ae-a156-094e547c0483",
   "metadata": {},
   "outputs": [],
   "source": [
    "# the columns X and Y are longitude and latitude respectively.\n",
    "#  I will drop the ones at the end and rename the X and Y\n",
    "# Drop Latitude and Longitude columns\n",
    "data.drop(columns=['Latitude', 'Longitude'], inplace=True)\n",
    "print(data.columns)\n",
    "\n",
    "# aside from renaming X and Y, I will rename the other columns for constitency, clarity and descriptive, rmeove typos\n",
    "data.rename(columns={\n",
    "    'X': 'Longitude',\n",
    "    'Y': 'Latitude',\n",
    "    'FID': 'Record_ID',\n",
    "    'Name_of_Sc': 'School_Name',\n",
    "    'Level_': 'School_Level',\n",
    "    'Status': 'School_Status',\n",
    "    'SchSponsor': 'School_Sponsor',\n",
    "    'Type1': 'Student_Gender_Type',\n",
    "    'Type2': 'School_Day_Boarding_Type',\n",
    "    'Type3': 'Student_Category',\n",
    "    'PupilTeach': 'Pupil_Teacher_Ratio',\n",
    "    'ClassrmRat': 'Pupil_Classroom_Ratio',\n",
    "    'ToiletRati': 'Pupil_Toilet_Ratio',\n",
    "    'No_Classrm': 'Num_Classrooms',\n",
    "    'BoysToilet': 'Num_Boys_Toilets',\n",
    "    'GirlsToilet': 'Num_Girls_Toilets',\n",
    "    'TeachersTo': 'Num_Teachers_Toilets',\n",
    "    'TotalToile': 'Num_Toilets_Total',\n",
    "    'TotalBoys': 'Num_Boys',\n",
    "    'TotalGirls': 'Num_Girls',\n",
    "    'TotalEnrol': 'Total_Enrollment',\n",
    "    'GO_KTSC_M': 'GOK_TSC_Teachers_Male',\n",
    "    'GOK_TSC_F': 'GOK_TSC_Teachers_Female',\n",
    "    'authorityM': 'Authority_Teachers_Male',\n",
    "    'authorityF': 'Authority_Teachers_Female',\n",
    "    'PTA_BOG_M': 'PTA_BOG_Teachers_Male',\n",
    "    'PTA_BOG_F': 'PTA_BOG_Teachers_Female',\n",
    "    'OthersM': 'Other_Teachers_Male',\n",
    "    'OthersF': 'Other_Teachers_Female',\n",
    "    'NoTeaching': 'Num_Teaching_Staff',\n",
    "    'NonTeachin': 'Num_Non_Teaching_Staff',\n",
    "    'Province': 'Province',\n",
    "    'District': 'District',\n",
    "    'Division': 'Division',\n",
    "    'Location': 'Location',\n",
    "    'Costituenc': 'Constituency',\n",
    "}, inplace=True)\n",
    "\n",
    "print(data.columns)"
   ]
  },
  {
   "cell_type": "markdown",
   "id": "6fa912c7-b109-4236-b6b4-61091cae5140",
   "metadata": {},
   "source": [
    "# **PHASE 5: DIAGNOSTIC ANALYSIS**"
   ]
  },
  {
   "cell_type": "markdown",
   "id": "ad65a91a-41d2-4d25-afb6-548240e53698",
   "metadata": {},
   "source": [
    "## 5.1 Infrastructure Deficit"
   ]
  },
  {
   "cell_type": "code",
   "execution_count": null,
   "id": "eaa47b7d-5054-4dfd-900f-b92a3c3469ef",
   "metadata": {},
   "outputs": [],
   "source": [
    "fig, axes = plt.subplots(1, 3, figsize=(18, 5))\n",
    "sns.boxplot(data=data, y='Pupil_Teacher_Ratio', ax=axes[0]).set_title('Teacher Ratio')\n",
    "sns.boxplot(data=data, y='Pupil_Toilet_Ratio', ax=axes[1]).set_title('Toilet Ratio')\n",
    "sns.boxplot(data=data, y='Pupil_Classroom_Ratio', ax=axes[2]).set_title('Classroom Ratio')\n",
    "plt.suptitle(\"Distribution of Key Ratios (Raw Values)\")\n",
    "plt.show()"
   ]
  },
  {
   "cell_type": "markdown",
   "id": "ba995175-c1f9-4bae-922b-9b3c6170f478",
   "metadata": {},
   "source": [
    "### Comparing ratios between school types"
   ]
  },
  {
   "cell_type": "code",
   "execution_count": null,
   "id": "804c5064-8ba7-4a1b-9708-65bb9fd9d6dd",
   "metadata": {},
   "outputs": [],
   "source": [
    "# Compare ratios between school types\n",
    "pd.pivot_table(data, \n",
    "               index='School_Status', \n",
    "               values=['Pupil_Teacher_Ratio', 'Pupil_Toilet_Ratio'],\n",
    "               aggfunc=['mean', 'median', 'std'])"
   ]
  },
  {
   "cell_type": "markdown",
   "id": "6a764c91-c155-49ba-951d-7418befeb549",
   "metadata": {},
   "source": [
    "### Outlier Detection by Tukey's method"
   ]
  },
  {
   "cell_type": "code",
   "execution_count": null,
   "id": "d20411f7-d6c6-497c-9b94-bf87d164d5af",
   "metadata": {},
   "outputs": [],
   "source": [
    "# Tukey's method for outliers\n",
    "def detect_outliers(col):\n",
    "    Q1 = data[col].quantile(0.25)\n",
    "    Q3 = data[col].quantile(0.75)\n",
    "    IQR = Q3 - Q1\n",
    "    return data[(data[col] < (Q1 - 1.5*IQR)) | (data[col] > (Q3 + 1.5*IQR))]\n",
    "\n",
    "print(\"Teacher ratio outliers:\\n\", detect_outliers('Pupil_Teacher_Ratio')['School_Name'].head())"
   ]
  },
  {
   "cell_type": "markdown",
   "id": "beccf8bd-0bfe-437c-a9f6-8cb9cc601b12",
   "metadata": {},
   "source": [
    "## 5.2 Pupil-Teacher Ratio -continuos target"
   ]
  },
  {
   "cell_type": "markdown",
   "id": "35365034-8987-47f5-b56a-95ea718a2035",
   "metadata": {},
   "source": [
    "### 5.2.1 Spatial patterns"
   ]
  },
  {
   "cell_type": "code",
   "execution_count": null,
   "id": "704b1236-eb30-4f1e-bacb-24461b02504c",
   "metadata": {},
   "outputs": [],
   "source": [
    "# Geographic heatmap (using raw coordinates)\n",
    "plt.figure(figsize=(10,8))\n",
    "sns.scatterplot(data=data, x='Longitude', y='Latitude', \n",
    "                hue='Pupil_Teacher_Ratio', palette='viridis', \n",
    "                size='Total_Enrollment', sizes=(20,200))\n",
    "plt.title(\"Teacher Ratio Geographic Distribution (Raw Coordinates)\")\n",
    "plt.show()"
   ]
  },
  {
   "cell_type": "markdown",
   "id": "2f072e0e-d7e1-4ad7-8bd7-bb3616496061",
   "metadata": {},
   "source": [
    "### 5.2.2 Statistical Tests"
   ]
  },
  {
   "cell_type": "code",
   "execution_count": null,
   "id": "09751b1c-993f-43e1-8420-81b15035db7a",
   "metadata": {},
   "outputs": [],
   "source": [
    "from scipy.stats import ttest_ind\n",
    "\n",
    "public = data[data['School_Status']=='PUBLIC']['Pupil_Teacher_Ratio']\n",
    "private = data[data['School_Status']=='PRIVATE']['Pupil_Teacher_Ratio']\n",
    "t_stat, p_val = ttest_ind(public, private)\n",
    "\n",
    "print(f\"Public vs Private t-test: t={t_stat:.1f}, p={p_val:.4f}\")"
   ]
  },
  {
   "cell_type": "markdown",
   "id": "990c8fbc-4759-4321-97a5-a0e559678339",
   "metadata": {},
   "source": [
    "## 5.3 Gender Toilet Equity"
   ]
  },
  {
   "cell_type": "markdown",
   "id": "505f1b4c-a59b-49bf-9de8-a71e387541fe",
   "metadata": {},
   "source": [
    "### 5.3.1 Raw Count Comparison"
   ]
  },
  {
   "cell_type": "code",
   "execution_count": null,
   "id": "d75bb89b-53a3-4565-8c01-5110a7d9eb18",
   "metadata": {},
   "outputs": [],
   "source": [
    "data['Total_Toilets'] = data['Num_Boys_Toilets'] + data['Num_Girls_Toilets']\n",
    "data['Girls_Toilet_Pct'] = data['Num_Girls_Toilets'] / data['Total_Toilets']\n",
    "\n",
    "plt.figure(figsize=(12,6))\n",
    "sns.histplot(data['Girls_Toilet_Pct'], bins=30, kde=True)\n",
    "plt.axvline(0.5, color='red', linestyle='--', label='Perfect Equity')\n",
    "plt.title(\"Proportion of Toilets Allocated to Girls\")\n",
    "plt.legend()\n",
    "plt.show()"
   ]
  },
  {
   "cell_type": "markdown",
   "id": "2a4d11f4-3189-4285-baee-9acd2e8d8a7e",
   "metadata": {},
   "source": [
    "### 5.3.2 Cross-Tabulation"
   ]
  },
  {
   "cell_type": "code",
   "execution_count": null,
   "id": "817a44aa-d3e1-4665-aced-d0bee7e90b8e",
   "metadata": {},
   "outputs": [],
   "source": [
    "pd.crosstab(data['Student_Gender_Type'], \n",
    "            data['School_Sponsor'], \n",
    "            values=data['Girls_Toilet_Pct'], \n",
    "            aggfunc='mean').style.background_gradient(cmap='RdYlGn')"
   ]
  },
  {
   "cell_type": "markdown",
   "id": "977383b8-516f-468b-b28b-57d1eb710af3",
   "metadata": {},
   "source": [
    "## 5.4 School Performance Tier"
   ]
  },
  {
   "cell_type": "markdown",
   "id": "bf085752-af00-4788-b62a-c193b67716f1",
   "metadata": {},
   "source": [
    "### 5.4.1 Ratio Correlation"
   ]
  },
  {
   "cell_type": "code",
   "execution_count": null,
   "id": "723d8b8f-3d12-4f7b-83b1-192d0a0f6f9b",
   "metadata": {},
   "outputs": [],
   "source": [
    "sns.jointplot(data=data, x='Pupil_Teacher_Ratio', y='Pupil_Toilet_Ratio', \n",
    "              kind='hex', gridsize=20)\n",
    "plt.suptitle(\"Teacher vs Toilet Ratio Correlation (Raw Values)\")\n",
    "plt.tight_layout()\n",
    "plt.show()"
   ]
  },
  {
   "cell_type": "markdown",
   "id": "21f5a246-a035-4d0f-86cf-b9febbf4cb98",
   "metadata": {},
   "source": [
    "### A dashboard layout to distribution by\n",
    "    1. Pupil classroom ratio nationwide\n",
    "    2. Provincial comparison\n",
    "    3. Interactive plotly\n",
    "    4. facility adequacy matrxi"
   ]
  },
  {
   "cell_type": "code",
   "execution_count": null,
   "id": "896cfaf4-5641-4965-8034-7f88cfb8dcbf",
   "metadata": {},
   "outputs": [],
   "source": [
    "plt.figure(figsize=(12, 6))\n",
    "ax = sns.histplot(data['Pupil_Classroom_Ratio'], bins=50, kde=True, color='#1f77b4')\n",
    "plt.axvline(x=40, color='red', linestyle='--', linewidth=2, label='Recommended Max (40:1)')\n",
    "plt.title('National Distribution of Pupil-Classroom Ratios', pad=20, fontsize=14)\n",
    "plt.xlabel('Students per Classroom', labelpad=10)\n",
    "plt.ylabel('Number of Schools', labelpad=10)\n",
    "plt.legend()\n",
    "\n",
    "# Annotate key points\n",
    "plt.annotate(f'{len(overcrowded)} schools\\n({len(overcrowded)/len(data)*100:.1f}%) exceed standard',\n",
    "             xy=(60, ax.get_ylim()[1]*0.8), xytext=(70, ax.get_ylim()[1]*0.7),\n",
    "             arrowprops=dict(arrowstyle='->'), bbox=dict(boxstyle='round,pad=0.5', fc='white'))\n",
    "\n",
    "plt.grid(axis='y', alpha=0.3)\n",
    "plt.tight_layout()\n",
    "plt.show()\n",
    "\n",
    "\n",
    "fig, (ax1, ax2) = plt.subplots(1, 2, figsize=(16, 6))\n",
    "\n",
    "# Plot 1: Median ratios by province\n",
    "province_order = data.groupby('Province')['Pupil_Classroom_Ratio'].median().sort_values().index\n",
    "sns.barplot(data=data, y='Province', x='Pupil_Classroom_Ratio', \n",
    "            order=province_order, ax=ax1, color='#1f77b4', estimator='median')\n",
    "ax1.axvline(x=40, color='red', linestyle='--')\n",
    "ax1.set_title('Median Classroom Ratios by Province', pad=15)\n",
    "ax1.set_xlabel('Students per Classroom')\n",
    "ax1.annotate('Western shows\\nbest performance', \n",
    "             xy=(32, 6), xytext=(20, 4),\n",
    "             arrowprops=dict(arrowstyle='->'))\n",
    "\n",
    "# Plot 2: Percentage exceeding standards\n",
    "province_exceed = data.groupby('Province')['Pupil_Classroom_Ratio'].apply(lambda x: (x>40).mean()*100).sort_values()\n",
    "province_exceed.plot(kind='barh', ax=ax2, color='#ff7f0e')\n",
    "ax2.set_title('% Schools Exceeding 40:1 Standard', pad=15)\n",
    "ax2.set_xlabel('Percentage of Schools')\n",
    "ax2.axvline(x=15, color='grey', linestyle=':')\n",
    "\n",
    "plt.tight_layout()\n",
    "plt.show()\n",
    "\n",
    "\n",
    "import plotly.express as px\n",
    "fig = px.box(data, x='Province', y='Pupil_Classroom_Ratio', \n",
    "             title='Interactive Provincial Distribution of Classroom Ratios',\n",
    "             color='Province',\n",
    "             hover_data=['School_Name'],\n",
    "             points=\"all\")\n",
    "\n",
    "fig.add_hline(y=40, line_dash=\"dot\", line_color=\"red\",\n",
    "              annotation_text=\"Recommended Maximum\", \n",
    "              annotation_position=\"top left\")\n",
    "\n",
    "fig.update_layout(\n",
    "    yaxis_title=\"Students per Classroom\",\n",
    "    xaxis_title=\"\",\n",
    "    showlegend=False,\n",
    "    height=600\n",
    ")\n",
    "\n",
    "fig.show()\n",
    "\n",
    "# Create adequacy flags\n",
    "data['Classroom_Adequate'] = data['Pupil_Classroom_Ratio'] <= 40\n",
    "data['Toilet_Adequate'] = (data['Pupil_Toilet_Ratio'] <= 25) & (data['Girls_Toilet_Pct'].between(40,60))\n",
    "\n",
    "adequacy_matrix = data.groupby(['Classroom_Adequate', 'Toilet_Adequate']).size().unstack()\n",
    "\n",
    "plt.figure(figsize=(8, 6))\n",
    "sns.heatmap(adequacy_matrix, annot=True, fmt=',d', cmap='YlOrRd',\n",
    "            cbar_kws={'label': 'Number of Schools'})\n",
    "plt.title('Joint Adequacy of Classrooms and Toilets', pad=15)\n",
    "plt.xlabel('Toilet Facilities Adequate')\n",
    "plt.ylabel('Classroom Space Adequate')\n",
    "plt.xticks([0.5,1.5], ['No', 'Yes'], rotation=0)\n",
    "plt.yticks([0.5,1.5], ['No', 'Yes'], rotation=0)\n",
    "plt.tight_layout()\n",
    "plt.show()"
   ]
  },
  {
   "cell_type": "code",
   "execution_count": null,
   "id": "cc0d650b-1d48-4de1-97ec-d50922b71119",
   "metadata": {},
   "outputs": [],
   "source": []
  }
 ],
 "metadata": {
  "kernelspec": {
   "display_name": "Python [conda env:base] *",
   "language": "python",
   "name": "conda-base-py"
  },
  "language_info": {
   "codemirror_mode": {
    "name": "ipython",
    "version": 3
   },
   "file_extension": ".py",
   "mimetype": "text/x-python",
   "name": "python",
   "nbconvert_exporter": "python",
   "pygments_lexer": "ipython3",
   "version": "3.12.7"
  }
 },
 "nbformat": 4,
 "nbformat_minor": 5
}
